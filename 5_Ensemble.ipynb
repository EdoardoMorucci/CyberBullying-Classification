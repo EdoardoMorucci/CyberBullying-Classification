{
  "cells": [
    {
      "cell_type": "markdown",
      "metadata": {
        "id": "view-in-github",
        "colab_type": "text"
      },
      "source": [
        "<a href=\"https://colab.research.google.com/github/EdoardoMorucci/CyberBullying-Classification/blob/main/5_Ensemble.ipynb\" target=\"_parent\"><img src=\"https://colab.research.google.com/assets/colab-badge.svg\" alt=\"Open In Colab\"/></a>"
      ]
    },
    {
      "cell_type": "markdown",
      "metadata": {
        "id": "epBP7SucGYNP"
      },
      "source": [
        "# Ensemble\n",
        "In this notebook we will create ensemble models from the best model developed. In particular we will focus in obtaining a model with the best accuracy on the test set and a model with the best precision on no bullying tweets."
      ]
    },
    {
      "cell_type": "markdown",
      "metadata": {
        "id": "l1ATd77JsQyY"
      },
      "source": [
        "# Import and Costants"
      ]
    },
    {
      "cell_type": "code",
      "execution_count": null,
      "metadata": {
        "id": "PmOIGAcXsSUk"
      },
      "outputs": [],
      "source": [
        "import tensorflow as tf\n",
        "from tensorflow import keras\n",
        "from keras import layers\n",
        "from keras import models\n",
        "import numpy as np\n",
        "import pandas as pd\n",
        "from tensorflow import keras\n",
        "import os\n",
        "import shutil\n",
        "import matplotlib.pyplot as plt\n",
        "from tqdm.auto import tqdm\n",
        "from google.colab import drive\n",
        "from gensim.models import Word2Vec\n",
        "from collections import Counter\n",
        "from tensorflow.keras.layers.experimental.preprocessing import TextVectorization"
      ]
    },
    {
      "cell_type": "markdown",
      "metadata": {
        "id": "tvcSz_khiYIR"
      },
      "source": [
        "# Connection to Google Drive"
      ]
    },
    {
      "cell_type": "code",
      "execution_count": null,
      "metadata": {
        "colab": {
          "base_uri": "https://localhost:8080/"
        },
        "id": "SWrkZz1siY_U",
        "outputId": "134e80ca-b063-44d4-b6f2-a7a55cd23285"
      },
      "outputs": [
        {
          "output_type": "stream",
          "name": "stdout",
          "text": [
            "Mounted at /content/gdrive\n"
          ]
        }
      ],
      "source": [
        "drive.mount('/content/gdrive', force_remount=True)"
      ]
    },
    {
      "cell_type": "code",
      "execution_count": null,
      "metadata": {
        "id": "tTZdVYQ4sWjL"
      },
      "outputs": [],
      "source": [
        "%run /content/gdrive/Shareddrives/CyberBullyingClassification/utilities.ipynb"
      ]
    },
    {
      "cell_type": "markdown",
      "metadata": {
        "id": "qSGU2Ger1VR0"
      },
      "source": [
        "# Dataset loading\n",
        "We load the dataset and prepare it for the training."
      ]
    },
    {
      "cell_type": "code",
      "execution_count": null,
      "metadata": {
        "id": "r5ILaBm01VR1"
      },
      "outputs": [],
      "source": [
        "train_ds, val_ds, test_ds = load_data_splits()\n",
        "x_train, y_train, x_val, y_val, x_test, y_test = get_data_and_labels(train_ds, val_ds, test_ds)"
      ]
    },
    {
      "cell_type": "code",
      "execution_count": null,
      "metadata": {
        "id": "fXjKqB6uqGvC"
      },
      "outputs": [],
      "source": [
        "MAX_LENGTH = 350 # max len of representation of a tweet\n",
        "MAX_WORDS = 25000 # max size of vocabulary\n",
        "\n",
        "vectorizer = TextVectorization(output_mode = 'int', # set different output encoding\n",
        "                               standardize='lower_and_strip_punctuation',\n",
        "                               split=\"whitespace\",\n",
        "                               output_sequence_length = MAX_LENGTH,\n",
        "                               pad_to_max_tokens=True,\n",
        "                               max_tokens = MAX_WORDS,\n",
        "                               ngrams=None)"
      ]
    },
    {
      "cell_type": "markdown",
      "source": [
        "We load the embedding matrices and we create the tensors to use for the training."
      ],
      "metadata": {
        "id": "CQ6s1blLMl_E"
      }
    },
    {
      "cell_type": "code",
      "execution_count": null,
      "metadata": {
        "id": "Njk7dUIHu3Um"
      },
      "outputs": [],
      "source": [
        "vectorizer.adapt(x_train)\n",
        "\n",
        "x_train = vectorizer(np.array([[s] for s in x_train])).numpy()\n",
        "x_val = vectorizer(np.array([[s] for s in x_val])).numpy()\n",
        "x_test = vectorizer(np.array([[s] for s in x_test])).numpy()\n",
        "\n",
        "y_train = np.array([[s] for s in y_train])\n",
        "y_val = np.array([[s] for s in y_val])\n",
        "y_test = np.array([[s] for s in y_test])"
      ]
    },
    {
      "cell_type": "code",
      "execution_count": null,
      "metadata": {
        "id": "r2NVOslBBpDE"
      },
      "outputs": [],
      "source": [
        "x_train = tf.convert_to_tensor(x_train)\n",
        "x_val = tf.convert_to_tensor(x_val)\n",
        "x_test = tf.convert_to_tensor(x_test)\n",
        "\n",
        "y_train = tf.convert_to_tensor(y_train)\n",
        "y_val = tf.convert_to_tensor(y_val)\n",
        "y_test = tf.convert_to_tensor(y_test)"
      ]
    },
    {
      "cell_type": "markdown",
      "source": [
        "In the function to evaluate a model we return the accuracy on the set and the precision on the notumor class, since we are interested in the capability of a model to not assign the notumor label to a brain with a tumor."
      ],
      "metadata": {
        "id": "xdlgKsbo2zgd"
      }
    },
    {
      "cell_type": "code",
      "execution_count": null,
      "metadata": {
        "id": "W_JJDOZYJ_UD"
      },
      "outputs": [],
      "source": [
        "def evaluate_results(true_labels, predicted_labels):\n",
        "  print(\"Accuracy on the set: \" + str(metrics.accuracy_score(true_labels, predicted_labels)))\n",
        "  print(metrics.classification_report(true_labels, predicted_labels, target_names=CLASSES, digits=4))\n",
        "  # plot confusion matrix\n",
        "  fig, ax = plt.subplots(figsize=(10, 10))\n",
        "  ConfusionMatrixDisplay.from_predictions(true_labels, predicted_labels, xticks_rotation='vertical', ax=ax, display_labels=CLASSES)\n",
        "  \n",
        "def get_accuracy_and_notcyberbullying_precision(true_labels, predicted_labels):\n",
        "  return metrics.accuracy_score(true_labels, predicted_labels), metrics.precision_score(true_labels, predicted_labels, average='macro',labels=[5])"
      ]
    },
    {
      "cell_type": "markdown",
      "metadata": {
        "id": "BtDMxSfO75mD"
      },
      "source": [
        "# Model Loading\n",
        "We load the best model for each type of network trained (the CNN from scratch, VGG16, ResNet and Densenet). As parameter to value a model we considered the accuracy on the test set."
      ]
    },
    {
      "cell_type": "code",
      "execution_count": null,
      "metadata": {
        "id": "NbGs7OVm8R5-"
      },
      "outputs": [],
      "source": [
        "lstm1_model = models.load_model(MODELS_PATH + '/LSTM512_spacy/LSTM512_spacy.h5')\n",
        "lstm2_model = models.load_model(MODELS_PATH + '/LSTM512_custom/LSTM512_custom.h5')\n",
        "cnn_model = models.load_model(MODELS_PATH + '/CNN_base_custom_emb/CNN_base_custom_emb.h5')"
      ]
    },
    {
      "cell_type": "markdown",
      "metadata": {
        "id": "hPBJN9lACs8K"
      },
      "source": [
        "#Retrieves prediction\n",
        "We calculate the results fo each model on the test set and we concatenate the results on a single list object. The same procedure is done also for the validation set, since this results will be useful when  we are gonna find the best weights for the ensemble model."
      ]
    },
    {
      "cell_type": "markdown",
      "metadata": {
        "id": "cEp3W4PWWF_J"
      },
      "source": [
        "## Test set\n",
        "We perform the prediction on the test set and retrieves the true label of the dataset."
      ]
    },
    {
      "cell_type": "code",
      "execution_count": null,
      "metadata": {
        "id": "RFpT2aVdCspN"
      },
      "outputs": [],
      "source": [
        "lstm1_test_scores = lstm1_model.predict(x_test)\n",
        "lstm2_test_scores = lstm2_model.predict(x_test)\n",
        "cnn_test_scores = cnn_model.predict(x_test)\n",
        "bert_test_scores = loadObject(DRIVE_DIR + \"/Results/bert_scores_test\")"
      ]
    },
    {
      "cell_type": "code",
      "execution_count": null,
      "metadata": {
        "id": "lfDmXD_BjW2e"
      },
      "outputs": [],
      "source": [
        "model_test_scores = [lstm1_test_scores, lstm2_test_scores, cnn_test_scores, bert_test_scores]"
      ]
    },
    {
      "cell_type": "code",
      "execution_count": null,
      "metadata": {
        "id": "mb82G7l2DOKV"
      },
      "outputs": [],
      "source": [
        "test_labels = y_test"
      ]
    },
    {
      "cell_type": "markdown",
      "metadata": {
        "id": "3KAfUaoGWII7"
      },
      "source": [
        "## Validation set\n",
        "We perform the prediction on the val set and retrieves the true label of the dataset."
      ]
    },
    {
      "cell_type": "code",
      "execution_count": null,
      "metadata": {
        "id": "Loi6CjuiWN0N"
      },
      "outputs": [],
      "source": [
        "lstm1_val_scores = lstm1_model.predict(x_val)\n",
        "lstm2_val_scores = lstm2_model.predict(x_val)\n",
        "cnn_val_scores = cnn_model.predict(x_val)\n",
        "bert_val_scores = loadObject(DRIVE_DIR + \"/Results/bert_scores_val\")"
      ]
    },
    {
      "cell_type": "code",
      "execution_count": null,
      "metadata": {
        "id": "CIHUo4v9jsD6"
      },
      "outputs": [],
      "source": [
        "model_val_scores = [lstm1_val_scores, lstm2_val_scores, cnn_val_scores, bert_val_scores]"
      ]
    },
    {
      "cell_type": "code",
      "execution_count": null,
      "metadata": {
        "id": "FReD1ToHWN0O"
      },
      "outputs": [],
      "source": [
        "val_labels = y_val"
      ]
    },
    {
      "cell_type": "markdown",
      "metadata": {
        "id": "qqpKnjEZBowi"
      },
      "source": [
        "# Average Model\n",
        "The easiest way to aggregate the predictions of a set of classifiers is to average their predictions and to extract the ensemble classified label from this prediction. "
      ]
    },
    {
      "cell_type": "code",
      "execution_count": null,
      "metadata": {
        "colab": {
          "base_uri": "https://localhost:8080/",
          "height": 901
        },
        "id": "adoOeYPD8WEk",
        "outputId": "94e9bc13-48a9-497b-f021-3d195ec60069"
      },
      "outputs": [
        {
          "output_type": "stream",
          "name": "stdout",
          "text": [
            "Accuracy on the set: 0.8589712918660287\n",
            "                     precision    recall  f1-score   support\n",
            "\n",
            "                age     0.9464    0.9731    0.9595      1560\n",
            "          ethnicity     0.9885    0.9828    0.9856      1570\n",
            "             gender     0.8984    0.8834    0.8908      1441\n",
            "           religion     0.9555    0.9621    0.9588      1585\n",
            "other_cyberbullying     0.5837    0.5801    0.5819       974\n",
            "  not_cyberbullying     0.6236    0.6154    0.6195      1230\n",
            "\n",
            "           accuracy                         0.8590      8360\n",
            "          macro avg     0.8327    0.8328    0.8327      8360\n",
            "       weighted avg     0.8580    0.8590    0.8584      8360\n",
            "\n"
          ]
        },
        {
          "output_type": "display_data",
          "data": {
            "text/plain": [
              "<Figure size 720x720 with 2 Axes>"
            ],
            "image/png": "[encoded data removed]"
          },
          "metadata": {
            "needs_background": "light"
          }
        }
      ],
      "source": [
        "model_test_scores = np.array(model_test_scores)\n",
        "ensemble_scores = np.mean(model_test_scores, axis=0)\n",
        "ensemble_prediction = np.argmax(ensemble_scores, axis=-1) # argmax across classes\n",
        "\n",
        "evaluate_results(test_labels, ensemble_prediction)"
      ]
    },
    {
      "cell_type": "markdown",
      "metadata": {
        "id": "ZYws8mVEpvQe"
      },
      "source": [
        "# Weighted Average Model\n",
        "All classifiers are more or less equally good but, in order to make the most of the ensemble technique, it is smarter to take a weighted average of the predictions so that the best classifiers have higher weights than the worst classifiers.\n",
        "\n",
        "We are gonna use two different techniques in order to find the best weights of the model. In all the two experiments we will build two models: one which will maximize the accuracy on the validation set and one that will maximize the precision on no tumor image."
      ]
    },
    {
      "cell_type": "markdown",
      "metadata": {
        "id": "S4qBlthYJTc2"
      },
      "source": [
        "## Brute force\n",
        "One way to found a good set of weights is to try all the weights within a certain step (respecting the constraint that the sum of all the weights needs to be 1) and try all the combinations keeping only the models with the best results on the validation set. Since we have 6 model, choosing a not small step size (0.05), this approach is feasible in a moderate time, but since the algorithmic complexity of this solution is O((1/step)^n), where n is the number of models, this approach becomes unfeasible if the number of model is higher or we want an higher precision decreasing the step size.\n",
        "\n",
        "\n",
        "The following function will allow us to calculate the weighted average of the predictions of the classifiers. "
      ]
    },
    {
      "cell_type": "code",
      "execution_count": null,
      "metadata": {
        "id": "YHa7BEacOAUT"
      },
      "outputs": [],
      "source": [
        "def calculate_ensemble_prediction(model_scores, weights):\n",
        "  model_scores = np.array(model_scores)\n",
        "  ensemble_scores = np.average(model_scores, axis=0, weights=weights)\n",
        "  ensemble_prediction = np.argmax(ensemble_scores, axis=-1) # argmax across classes\n",
        "  return ensemble_prediction"
      ]
    },
    {
      "cell_type": "code",
      "execution_count": null,
      "metadata": {
        "id": "LupK8-VEtBqI"
      },
      "outputs": [],
      "source": [
        "def compare_model(modelA, modelB, param1, param2):\n",
        "  \"\"\"\n",
        "  return the best model between modelA and modelB considering first param1 and the param2\n",
        "  \"\"\"\n",
        "  if modelA[param1] > modelB[param1]:\n",
        "    return modelA\n",
        "  if modelA[param1] < modelB[param1]:\n",
        "    return modelB\n",
        "  #in case of tie we return the best model wrt param2\n",
        "  return modelA if modelA[param2] > modelB[param2] else modelB"
      ]
    },
    {
      "cell_type": "code",
      "execution_count": null,
      "metadata": {
        "id": "mMgdcAmkpxXQ"
      },
      "outputs": [],
      "source": [
        "step = 0.01\n",
        "\n",
        "#record of the best model wrt accuracy on test set\n",
        "best_accuracy_model = {'weights':[], 'accuracy':0, 'precision_on_notcyberbullying':0 }\n",
        "\n",
        "#records of the best model wrt precision on test set\n",
        "best_precision_model = {'weights':[], 'accuracy':0, 'precision_on_notcyberbullying':0 }\n",
        "\n",
        "for a in np.arange(0,1.0001,step):\n",
        "  for b in np.arange(0,1.0001,step):\n",
        "    for c in np.arange(0,1.0001,step):\n",
        "      for d in np.arange(0,1.0001,step):\n",
        "        if (a + b + c + d == 1):\n",
        "          predictions = calculate_ensemble_prediction(model_val_scores, [a, b, c, d])\n",
        "          acc, prec = get_accuracy_and_notcyberbullying_precision(val_labels, predictions)\n",
        "          new_model = {'weights':[a,b,c,d], 'accuracy':acc, 'precision_on_notcyberbullying':prec}\n",
        "          best_accuracy_model = compare_model(best_accuracy_model, new_model, 'accuracy', 'precision_on_notcyberbullying')\n",
        "          best_precision_model = compare_model(best_precision_model, new_model, 'precision_on_notcyberbullying', 'accuracy')"
      ]
    },
    {
      "cell_type": "markdown",
      "source": [
        "The weights of the two models found are printed below."
      ],
      "metadata": {
        "id": "97h32-DxayOh"
      }
    },
    {
      "cell_type": "code",
      "execution_count": null,
      "metadata": {
        "colab": {
          "base_uri": "https://localhost:8080/"
        },
        "id": "xbpJjISrkVW4",
        "outputId": "8f2dc9eb-44f8-4e1a-f03c-cb96103cd44e"
      },
      "outputs": [
        {
          "output_type": "execute_result",
          "data": {
            "text/plain": [
              "{'weights': [0.14, 0.17, 0.09, 0.6],\n",
              " 'accuracy': 0.7878885662041519,\n",
              " 'precision_on_notcyberbullying': 0.648}"
            ]
          },
          "metadata": {},
          "execution_count": 20
        }
      ],
      "source": [
        "best_accuracy_model"
      ]
    },
    {
      "cell_type": "code",
      "execution_count": null,
      "metadata": {
        "colab": {
          "base_uri": "https://localhost:8080/"
        },
        "id": "eV-tfiq9kaeK",
        "outputId": "c85a5bae-6a98-4439-c0bf-0adaa7310cfc"
      },
      "outputs": [
        {
          "output_type": "execute_result",
          "data": {
            "text/plain": [
              "{'weights': [0.11, 0.17, 0.08, 0.64],\n",
              " 'accuracy': 0.7873507583091319,\n",
              " 'precision_on_notcyberbullying': 0.6501623376623377}"
            ]
          },
          "metadata": {},
          "execution_count": 21
        }
      ],
      "source": [
        "best_precision_model"
      ]
    },
    {
      "cell_type": "markdown",
      "source": [
        "The results of the two models are the following:"
      ],
      "metadata": {
        "id": "UckisOYEa43p"
      }
    },
    {
      "cell_type": "code",
      "execution_count": null,
      "metadata": {
        "colab": {
          "base_uri": "https://localhost:8080/",
          "height": 938
        },
        "id": "FtkFfrhVFqY9",
        "outputId": "2bfabff7-d697-4e28-b1ae-1ca457d81da9"
      },
      "outputs": [
        {
          "output_type": "stream",
          "name": "stdout",
          "text": [
            "Model with best accuracy: \n",
            "Weights: [0.14, 0.17, 0.09, 0.6]\n",
            "Accuracy on the set: 0.8632775119617225\n",
            "                     precision    recall  f1-score   support\n",
            "\n",
            "                age     0.9456    0.9814    0.9632      1560\n",
            "          ethnicity     0.9936    0.9815    0.9875      1570\n",
            "             gender     0.8933    0.8945    0.8939      1441\n",
            "           religion     0.9573    0.9609    0.9591      1585\n",
            "other_cyberbullying     0.5951    0.5975    0.5963       974\n",
            "  not_cyberbullying     0.6375    0.6106    0.6238      1230\n",
            "\n",
            "           accuracy                         0.8633      8360\n",
            "          macro avg     0.8371    0.8377    0.8373      8360\n",
            "       weighted avg     0.8616    0.8633    0.8623      8360\n",
            "\n"
          ]
        },
        {
          "output_type": "display_data",
          "data": {
            "text/plain": [
              "<Figure size 720x720 with 2 Axes>"
            ],
            "image/png": "[encoded data removed]"
          },
          "metadata": {
            "needs_background": "light"
          }
        }
      ],
      "source": [
        "print(\"Model with best accuracy: \")\n",
        "print(\"Weights: \" + str(best_accuracy_model['weights']))\n",
        "best_acc_predictions = calculate_ensemble_prediction(model_test_scores, best_accuracy_model['weights'])\n",
        "evaluate_results(test_labels, best_acc_predictions)"
      ]
    },
    {
      "cell_type": "code",
      "execution_count": null,
      "metadata": {
        "colab": {
          "base_uri": "https://localhost:8080/",
          "height": 938
        },
        "id": "-lQjFGSWAWez",
        "outputId": "406ca0e5-a9d8-442b-fc12-bbc0cfdb52f7"
      },
      "outputs": [
        {
          "output_type": "stream",
          "name": "stdout",
          "text": [
            "Model with best precision on not cyberbullying tweets: \n",
            "Weights: [0.11, 0.17, 0.08, 0.64]\n",
            "Accuracy on the set: 0.8631578947368421\n",
            "                     precision    recall  f1-score   support\n",
            "\n",
            "                age     0.9451    0.9814    0.9629      1560\n",
            "          ethnicity     0.9942    0.9815    0.9878      1570\n",
            "             gender     0.8924    0.8924    0.8924      1441\n",
            "           religion     0.9561    0.9609    0.9585      1585\n",
            "other_cyberbullying     0.5975    0.6006    0.5991       974\n",
            "  not_cyberbullying     0.6372    0.6098    0.6232      1230\n",
            "\n",
            "           accuracy                         0.8632      8360\n",
            "          macro avg     0.8371    0.8378    0.8373      8360\n",
            "       weighted avg     0.8615    0.8632    0.8622      8360\n",
            "\n"
          ]
        },
        {
          "output_type": "display_data",
          "data": {
            "text/plain": [
              "<Figure size 720x720 with 2 Axes>"
            ],
            "image/png": "[encoded data removed]"
          },
          "metadata": {
            "needs_background": "light"
          }
        }
      ],
      "source": [
        "print(\"Model with best precision on not cyberbullying tweets: \")\n",
        "print(\"Weights: \" + str(best_precision_model['weights']))\n",
        "best_prec_predictions = calculate_ensemble_prediction(model_test_scores, best_precision_model['weights'])\n",
        "evaluate_results(test_labels, best_prec_predictions)"
      ]
    }
  ],
  "metadata": {
    "accelerator": "GPU",
    "colab": {
      "collapsed_sections": [],
      "provenance": [],
      "include_colab_link": true
    },
    "gpuClass": "standard",
    "kernelspec": {
      "display_name": "Python 3",
      "name": "python3"
    },
    "language_info": {
      "name": "python"
    }
  },
  "nbformat": 4,
  "nbformat_minor": 0
}